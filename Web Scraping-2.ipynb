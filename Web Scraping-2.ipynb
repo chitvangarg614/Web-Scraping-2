{
 "cells": [
  {
   "cell_type": "code",
   "execution_count": 1,
   "metadata": {},
   "outputs": [
    {
     "name": "stdout",
     "output_type": "stream",
     "text": [
      "['/html/default.asp', '/css/default.asp', '/css/css_rwd_intro.asp', '/bootstrap/bootstrap_ver.asp', '/w3css/default.asp', '/colors/default.asp', '/icons/default.asp', '/graphics/default.asp', '/graphics/svg_intro.asp', '/graphics/canvas_intro.asp', '/howto/default.asp', '/sass/default.php', '/ai/default.asp', '/python/python_ml_getting_started.asp', '/datascience/default.asp', '/python/numpy/default.asp', '/python/pandas/default.asp', '/python/scipy/index.php', '/python/matplotlib_intro.asp', '/statistics/index.php', '/excel/index.php', '/googlesheets/index.php', '/xml/default.asp', '/xml/ajax_intro.asp', '/xml/dom_intro.asp', '/xml/xml_dtd_intro.asp', '/xml/schema_intro.asp', '/xml/xsl_intro.asp', '/xml/xpath_intro.asp', '/xml/xquery_intro.asp', '/js/default.asp', '/jquery/default.asp', '/react/default.asp', '/angular/default.asp', '/js/js_json_intro.asp', '/js/js_ajax_intro.asp', '/appml/default.asp', '/w3js/default.asp', '/python/default.asp', '/java/default.asp', '/cpp/default.asp', '/cs/index.php', '/r/default.asp', '/kotlin/index.php', '/go/index.php', '/sql/default.asp', '/mysql/default.asp', '/php/default.asp', '/asp/default.asp', '/nodejs/default.asp', '/nodejs/nodejs_raspberrypi.asp', '/git/default.asp', '/aws/index.php', 'https://www.w3schools.com/spaces', '/w3css/w3css_templates.asp', '/browsers/default.asp', '/cert/default.asp', '/whatis/default.asp', '/tryit/default.asp', '/typingspeed/default.asp', '/codegame/index.html', '/cybersecurity/index.php', '/accessibility/index.php', '/ai/default.asp', '/python/python_ml_getting_started.asp', '/datascience/default.asp', '/python/numpy/default.asp', '/python/pandas/default.asp', '/python/scipy/index.php', '/python/matplotlib_intro.asp', '/statistics/index.php', '/excel/index.php', '/googlesheets/index.php', '/xml/default.asp', '/xml/ajax_intro.asp', '/xml/dom_intro.asp', '/xml/xml_dtd_intro.asp', '/xml/schema_intro.asp', '/xml/xsl_intro.asp', '/xml/xpath_intro.asp', '/xml/xquery_intro.asp', '/tags/default.asp', '/tags/ref_html_browsersupport.asp', '/tags/ref_eventattributes.asp', '/colors/default.asp', '/tags/ref_attributes.asp', '/tags/ref_canvas.asp', '/graphics/svg_reference.asp', '/graphics/google_maps_reference.asp', '/cssref/default.asp', '/cssref/css3_browsersupport.asp', '/cssref/css_selectors.asp', '/bootstrap/bootstrap_ref_all_classes.asp', '/bootstrap4/bootstrap_ref_all_classes.asp', '/w3css/w3css_references.asp', '/icons/icons_reference.asp', '/sass/sass_functions_string.php', '/jsref/default.asp', '/jsref/default.asp', '/jquery/jquery_ref_overview.asp', '/angular/angular_ref_directives.asp', '/appml/appml_reference.asp', '/w3js/w3js_references.asp', '/python/python_reference.asp', '/java/java_ref_keywords.asp', '/sql/sql_ref_keywords.asp', '/mysql/mysql_ref_functions.asp', '/php/php_ref_overview.asp', '/asp/asp_ref_response.asp', '/xml/dom_nodetype.asp', '/xml/dom_http.asp', '/xml/xsl_elementref.asp', '/xml/schema_elements_ref.asp', '/charsets/default.asp', '/charsets/ref_html_ascii.asp', '/charsets/ref_html_ansi.asp', '/charsets/ref_html_ansi.asp', '/charsets/ref_html_8859.asp', '/charsets/ref_html_symbols.asp', '/charsets/ref_html_utf8.asp', '/html/html_exercises.asp', '/css/css_exercises.asp', '/js/js_exercises.asp', '/sql/sql_exercises.asp', '/mysql/mysql_exercises.asp', '/php/php_exercises.asp', '/python/python_exercises.asp', '/python/numpy/numpy_exercises.asp', '/python/pandas/pandas_exercises.asp', '/python/scipy/scipy_exercises.php', '/jquery/jquery_exercises.asp', '/java/java_exercises.asp', '/cpp/cpp_exercises.asp', '/cs/cs_exercises.asp', '/r/r_exercises.asp', '/kotlin/kotlin_exercises.php', '/go/go_exercises.php', '/bootstrap/bootstrap_exercises.asp', '/bootstrap4/bootstrap_exercises.asp', '/bootstrap5/bootstrap_exercises.php', '/git/git_exercises.asp', '/html/html_quiz.asp', '/css/css_quiz.asp', '/js/js_quiz.asp', '/sql/sql_quiz.asp', '/mysql/mysql_quiz.asp', '/php/php_quiz.asp', '/python/python_quiz.asp', '/python/numpy/numpy_quiz.asp', '/python/pandas/pandas_quiz.asp', '/python/scipy/scipy_quiz.php', '/jquery/jquery_quiz.asp', '/java/java_quiz.asp', '/cpp/cpp_quiz.asp', '/cs/cs_quiz.asp', '/r/r_quiz.asp', '/xml/xml_quiz.asp', '/cybersecurity/cybersecurity_quiz.php', '/bootstrap/bootstrap_quiz.asp', '/bootstrap4/bootstrap_quiz.asp', '/bootstrap5/bootstrap_quiz.php', '/accessibility/accessibility_quiz.php', 'https://courses.w3schools.com/courses/html', 'https://courses.w3schools.com/courses/css', 'https://courses.w3schools.com/courses/javascript', 'https://courses.w3schools.com/programs/front-end', 'https://courses.w3schools.com/courses/sql', 'https://courses.w3schools.com/courses/php', 'https://courses.w3schools.com/courses/python', 'https://courses.w3schools.com/courses/numpy-fundamentals', 'https://courses.w3schools.com/courses/pandas-fundamentals', 'https://courses.w3schools.com/programs/data-analytics', 'https://courses.w3schools.com/courses/jquery', 'https://courses.w3schools.com/courses/java', 'https://courses.w3schools.com/courses/cplusplus', 'https://courses.w3schools.com/courses/c-sharp', 'https://courses.w3schools.com/courses/r-fundamentals', 'https://courses.w3schools.com/courses/xml', 'https://courses.w3schools.com/courses/introduction-to-cyber-security', 'https://courses.w3schools.com/courses/accessibility-fundamentals', 'https://courses.w3schools.com/browse/certifications/courses/html-certification-exam', 'https://courses.w3schools.com/browse/certifications/courses/css-certification-exam', 'https://courses.w3schools.com/browse/certifications/courses/javascript-certification-exam', 'https://courses.w3schools.com/browse/certifications/courses/front-end-certification-exam', 'https://courses.w3schools.com/browse/certifications/courses/sql-certification-exam', 'https://courses.w3schools.com/browse/certifications/courses/php-certification-exam', 'https://courses.w3schools.com/browse/certifications/courses/python-certificaftion-exam', 'https://courses.w3schools.com/browse/certifications/courses/data-science-certification-exam', 'https://courses.w3schools.com/browse/certifications/courses/bootstrap-3-certification-exam', 'https://courses.w3schools.com/browse/certifications/courses/bootstrap-4-certification-exam', 'https://courses.w3schools.com/browse/certifications/courses/jquery-certification-exam', 'https://courses.w3schools.com/browse/certifications/courses/java-certification-exam', 'https://courses.w3schools.com/browse/certifications/courses/c-certification-exam', 'https://courses.w3schools.com/browse/certifications/courses/react-certification-exam', 'https://courses.w3schools.com/browse/certifications/courses/xml-certification-exam']\n"
     ]
    }
   ],
   "source": [
    "import urllib\n",
    "import bs4\n",
    "from bs4 import BeautifulSoup\n",
    "from urllib.request import Request, urlopen\n",
    "req = Request('https://www.w3schools.com')\n",
    "html_page = urlopen(req)\n",
    "soup = BeautifulSoup(html_page, \"html\")\n",
    "links= []\n",
    "for link in soup.find_all('a', {'class' :\"w3-bar-item w3-button\"}):\n",
    "    links.append(link.get('href'))\n",
    "print((links))"
   ]
  },
  {
   "cell_type": "code",
   "execution_count": 2,
   "metadata": {},
   "outputs": [
    {
     "name": "stdout",
     "output_type": "stream",
     "text": [
      "['http://www.w3schools.com//html/default.asp', 'http://www.w3schools.com//css/default.asp', 'http://www.w3schools.com//css/css_rwd_intro.asp', 'http://www.w3schools.com//bootstrap/bootstrap_ver.asp', 'http://www.w3schools.com//w3css/default.asp', 'http://www.w3schools.com//colors/default.asp', 'http://www.w3schools.com//icons/default.asp', 'http://www.w3schools.com//graphics/default.asp', 'http://www.w3schools.com//graphics/svg_intro.asp', 'http://www.w3schools.com//graphics/canvas_intro.asp', 'http://www.w3schools.com//howto/default.asp', 'http://www.w3schools.com//sass/default.php', 'http://www.w3schools.com//ai/default.asp', 'http://www.w3schools.com//python/python_ml_getting_started.asp', 'http://www.w3schools.com//datascience/default.asp', 'http://www.w3schools.com//python/numpy/default.asp', 'http://www.w3schools.com//python/pandas/default.asp', 'http://www.w3schools.com//python/scipy/index.php', 'http://www.w3schools.com//python/matplotlib_intro.asp', 'http://www.w3schools.com//statistics/index.php', 'http://www.w3schools.com//excel/index.php', 'http://www.w3schools.com//googlesheets/index.php', 'http://www.w3schools.com//xml/default.asp', 'http://www.w3schools.com//xml/ajax_intro.asp', 'http://www.w3schools.com//xml/dom_intro.asp', 'http://www.w3schools.com//xml/xml_dtd_intro.asp', 'http://www.w3schools.com//xml/schema_intro.asp', 'http://www.w3schools.com//xml/xsl_intro.asp', 'http://www.w3schools.com//xml/xpath_intro.asp', 'http://www.w3schools.com//xml/xquery_intro.asp', 'http://www.w3schools.com//js/default.asp', 'http://www.w3schools.com//jquery/default.asp', 'http://www.w3schools.com//react/default.asp', 'http://www.w3schools.com//angular/default.asp', 'http://www.w3schools.com//js/js_json_intro.asp', 'http://www.w3schools.com//js/js_ajax_intro.asp', 'http://www.w3schools.com//appml/default.asp', 'http://www.w3schools.com//w3js/default.asp', 'http://www.w3schools.com//python/default.asp', 'http://www.w3schools.com//java/default.asp', 'http://www.w3schools.com//cpp/default.asp', 'http://www.w3schools.com//cs/index.php', 'http://www.w3schools.com//r/default.asp', 'http://www.w3schools.com//kotlin/index.php', 'http://www.w3schools.com//go/index.php', 'http://www.w3schools.com//sql/default.asp', 'http://www.w3schools.com//mysql/default.asp', 'http://www.w3schools.com//php/default.asp', 'http://www.w3schools.com//asp/default.asp', 'http://www.w3schools.com//nodejs/default.asp', 'http://www.w3schools.com//nodejs/nodejs_raspberrypi.asp', 'http://www.w3schools.com//git/default.asp', 'http://www.w3schools.com//aws/index.php', 'https://www.w3schools.com/spaces', 'http://www.w3schools.com//w3css/w3css_templates.asp', 'http://www.w3schools.com//browsers/default.asp', 'http://www.w3schools.com//cert/default.asp', 'http://www.w3schools.com//whatis/default.asp', 'http://www.w3schools.com//tryit/default.asp', 'http://www.w3schools.com//typingspeed/default.asp', 'http://www.w3schools.com//codegame/index.html', 'http://www.w3schools.com//cybersecurity/index.php', 'http://www.w3schools.com//accessibility/index.php', 'http://www.w3schools.com//ai/default.asp', 'http://www.w3schools.com//python/python_ml_getting_started.asp', 'http://www.w3schools.com//datascience/default.asp', 'http://www.w3schools.com//python/numpy/default.asp', 'http://www.w3schools.com//python/pandas/default.asp', 'http://www.w3schools.com//python/scipy/index.php', 'http://www.w3schools.com//python/matplotlib_intro.asp', 'http://www.w3schools.com//statistics/index.php', 'http://www.w3schools.com//excel/index.php', 'http://www.w3schools.com//googlesheets/index.php', 'http://www.w3schools.com//xml/default.asp', 'http://www.w3schools.com//xml/ajax_intro.asp', 'http://www.w3schools.com//xml/dom_intro.asp', 'http://www.w3schools.com//xml/xml_dtd_intro.asp', 'http://www.w3schools.com//xml/schema_intro.asp', 'http://www.w3schools.com//xml/xsl_intro.asp', 'http://www.w3schools.com//xml/xpath_intro.asp', 'http://www.w3schools.com//xml/xquery_intro.asp', 'http://www.w3schools.com//tags/default.asp', 'http://www.w3schools.com//tags/ref_html_browsersupport.asp', 'http://www.w3schools.com//tags/ref_eventattributes.asp', 'http://www.w3schools.com//colors/default.asp', 'http://www.w3schools.com//tags/ref_attributes.asp', 'http://www.w3schools.com//tags/ref_canvas.asp', 'http://www.w3schools.com//graphics/svg_reference.asp', 'http://www.w3schools.com//graphics/google_maps_reference.asp', 'http://www.w3schools.com//cssref/default.asp', 'http://www.w3schools.com//cssref/css3_browsersupport.asp', 'http://www.w3schools.com//cssref/css_selectors.asp', 'http://www.w3schools.com//bootstrap/bootstrap_ref_all_classes.asp', 'http://www.w3schools.com//bootstrap4/bootstrap_ref_all_classes.asp', 'http://www.w3schools.com//w3css/w3css_references.asp', 'http://www.w3schools.com//icons/icons_reference.asp', 'http://www.w3schools.com//sass/sass_functions_string.php', 'http://www.w3schools.com//jsref/default.asp', 'http://www.w3schools.com//jsref/default.asp', 'http://www.w3schools.com//jquery/jquery_ref_overview.asp', 'http://www.w3schools.com//angular/angular_ref_directives.asp', 'http://www.w3schools.com//appml/appml_reference.asp', 'http://www.w3schools.com//w3js/w3js_references.asp', 'http://www.w3schools.com//python/python_reference.asp', 'http://www.w3schools.com//java/java_ref_keywords.asp', 'http://www.w3schools.com//sql/sql_ref_keywords.asp', 'http://www.w3schools.com//mysql/mysql_ref_functions.asp', 'http://www.w3schools.com//php/php_ref_overview.asp', 'http://www.w3schools.com//asp/asp_ref_response.asp', 'http://www.w3schools.com//xml/dom_nodetype.asp', 'http://www.w3schools.com//xml/dom_http.asp', 'http://www.w3schools.com//xml/xsl_elementref.asp', 'http://www.w3schools.com//xml/schema_elements_ref.asp', 'http://www.w3schools.com//charsets/default.asp', 'http://www.w3schools.com//charsets/ref_html_ascii.asp', 'http://www.w3schools.com//charsets/ref_html_ansi.asp', 'http://www.w3schools.com//charsets/ref_html_ansi.asp', 'http://www.w3schools.com//charsets/ref_html_8859.asp', 'http://www.w3schools.com//charsets/ref_html_symbols.asp', 'http://www.w3schools.com//charsets/ref_html_utf8.asp', 'http://www.w3schools.com//html/html_exercises.asp', 'http://www.w3schools.com//css/css_exercises.asp', 'http://www.w3schools.com//js/js_exercises.asp', 'http://www.w3schools.com//sql/sql_exercises.asp', 'http://www.w3schools.com//mysql/mysql_exercises.asp', 'http://www.w3schools.com//php/php_exercises.asp', 'http://www.w3schools.com//python/python_exercises.asp', 'http://www.w3schools.com//python/numpy/numpy_exercises.asp', 'http://www.w3schools.com//python/pandas/pandas_exercises.asp', 'http://www.w3schools.com//python/scipy/scipy_exercises.php', 'http://www.w3schools.com//jquery/jquery_exercises.asp', 'http://www.w3schools.com//java/java_exercises.asp', 'http://www.w3schools.com//cpp/cpp_exercises.asp', 'http://www.w3schools.com//cs/cs_exercises.asp', 'http://www.w3schools.com//r/r_exercises.asp', 'http://www.w3schools.com//kotlin/kotlin_exercises.php', 'http://www.w3schools.com//go/go_exercises.php', 'http://www.w3schools.com//bootstrap/bootstrap_exercises.asp', 'http://www.w3schools.com//bootstrap4/bootstrap_exercises.asp', 'http://www.w3schools.com//bootstrap5/bootstrap_exercises.php', 'http://www.w3schools.com//git/git_exercises.asp', 'http://www.w3schools.com//html/html_quiz.asp', 'http://www.w3schools.com//css/css_quiz.asp', 'http://www.w3schools.com//js/js_quiz.asp', 'http://www.w3schools.com//sql/sql_quiz.asp', 'http://www.w3schools.com//mysql/mysql_quiz.asp', 'http://www.w3schools.com//php/php_quiz.asp', 'http://www.w3schools.com//python/python_quiz.asp', 'http://www.w3schools.com//python/numpy/numpy_quiz.asp', 'http://www.w3schools.com//python/pandas/pandas_quiz.asp', 'http://www.w3schools.com//python/scipy/scipy_quiz.php', 'http://www.w3schools.com//jquery/jquery_quiz.asp', 'http://www.w3schools.com//java/java_quiz.asp', 'http://www.w3schools.com//cpp/cpp_quiz.asp', 'http://www.w3schools.com//cs/cs_quiz.asp', 'http://www.w3schools.com//r/r_quiz.asp', 'http://www.w3schools.com//xml/xml_quiz.asp', 'http://www.w3schools.com//cybersecurity/cybersecurity_quiz.php', 'http://www.w3schools.com//bootstrap/bootstrap_quiz.asp', 'http://www.w3schools.com//bootstrap4/bootstrap_quiz.asp', 'http://www.w3schools.com//bootstrap5/bootstrap_quiz.php', 'http://www.w3schools.com//accessibility/accessibility_quiz.php', 'https://courses.w3schools.com/courses/html', 'https://courses.w3schools.com/courses/css', 'https://courses.w3schools.com/courses/javascript', 'https://courses.w3schools.com/programs/front-end', 'https://courses.w3schools.com/courses/sql', 'https://courses.w3schools.com/courses/php', 'https://courses.w3schools.com/courses/python', 'https://courses.w3schools.com/courses/numpy-fundamentals', 'https://courses.w3schools.com/courses/pandas-fundamentals', 'https://courses.w3schools.com/programs/data-analytics', 'https://courses.w3schools.com/courses/jquery', 'https://courses.w3schools.com/courses/java', 'https://courses.w3schools.com/courses/cplusplus', 'https://courses.w3schools.com/courses/c-sharp', 'https://courses.w3schools.com/courses/r-fundamentals', 'https://courses.w3schools.com/courses/xml', 'https://courses.w3schools.com/courses/introduction-to-cyber-security', 'https://courses.w3schools.com/courses/accessibility-fundamentals', 'https://courses.w3schools.com/browse/certifications/courses/html-certification-exam', 'https://courses.w3schools.com/browse/certifications/courses/css-certification-exam', 'https://courses.w3schools.com/browse/certifications/courses/javascript-certification-exam', 'https://courses.w3schools.com/browse/certifications/courses/front-end-certification-exam', 'https://courses.w3schools.com/browse/certifications/courses/sql-certification-exam', 'https://courses.w3schools.com/browse/certifications/courses/php-certification-exam', 'https://courses.w3schools.com/browse/certifications/courses/python-certificaftion-exam', 'https://courses.w3schools.com/browse/certifications/courses/data-science-certification-exam', 'https://courses.w3schools.com/browse/certifications/courses/bootstrap-3-certification-exam', 'https://courses.w3schools.com/browse/certifications/courses/bootstrap-4-certification-exam', 'https://courses.w3schools.com/browse/certifications/courses/jquery-certification-exam', 'https://courses.w3schools.com/browse/certifications/courses/java-certification-exam', 'https://courses.w3schools.com/browse/certifications/courses/c-certification-exam', 'https://courses.w3schools.com/browse/certifications/courses/react-certification-exam', 'https://courses.w3schools.com/browse/certifications/courses/xml-certification-exam']\n"
     ]
    }
   ],
   "source": [
    "from urllib.parse import urlparse\n",
    "URL=links\n",
    "for url in range(0,len(URL)):\n",
    " if not urlparse(URL[url]).scheme:\n",
    "  URL[url] = 'http://www.w3schools.com/' + URL[url]\n",
    "print(URL)"
   ]
  },
  {
   "cell_type": "code",
   "execution_count": 3,
   "metadata": {},
   "outputs": [],
   "source": [
    "import requests\n",
    "from urllib.request import urlopen\n",
    "from bs4 import BeautifulSoup\n",
    "from random import randint\n",
    "from time import sleep\n",
    "import xlsxwriter\n",
    "from openpyxl import Workbook\n",
    "import pandas as pd"
   ]
  },
  {
   "cell_type": "code",
   "execution_count": 4,
   "metadata": {},
   "outputs": [],
   "source": [
    "workbook = xlsxwriter.Workbook(\"workbook.xlsx\")\n",
    "worksheet = workbook.add_worksheet()\n",
    "\n",
    "row = 0\n",
    "col = 0\n",
    "rowHeaders = ['Heading','Content','Table Data','Links','Code']\n",
    "worksheet.write_row(row, col, tuple(rowHeaders))\n",
    "row += 1"
   ]
  },
  {
   "cell_type": "code",
   "execution_count": 6,
   "metadata": {},
   "outputs": [],
   "source": [
    "for url in range(0,len(URL)):\n",
    "    req = requests.get(URL[url])\n",
    "    sleep(randint(5,10))\n",
    "    soup = BeautifulSoup(req.text, 'html.parser')\n",
    "    titles = soup.find_all('title')\n",
    "    content = soup.find_all('p')\n",
    "    table= [(item.prettify()) for item in soup.find_all(\"table\")]\n",
    "    links=[]\n",
    "    for link in soup.find_all('a'):\n",
    "        links.append(link.get('href'))\n",
    "    code = soup.find_all('pre')        \n",
    "    titles= str(titles)\n",
    "    content=str(content)\n",
    "    table= str(table)\n",
    "    links= str(links)\n",
    "    code=str(code)\n",
    "    rowValues = [titles, content, table, links,code ]\n",
    "    worksheet.write_row(row, col, tuple(rowValues))\n",
    "    row=row+1\n",
    "workbook.close()"
   ]
  },
  {
   "cell_type": "code",
   "execution_count": null,
   "metadata": {},
   "outputs": [],
   "source": []
  }
 ],
 "metadata": {
  "kernelspec": {
   "display_name": "Python 3",
   "language": "python",
   "name": "python3"
  },
  "language_info": {
   "codemirror_mode": {
    "name": "ipython",
    "version": 3
   },
   "file_extension": ".py",
   "mimetype": "text/x-python",
   "name": "python",
   "nbconvert_exporter": "python",
   "pygments_lexer": "ipython3",
   "version": "3.8.3"
  }
 },
 "nbformat": 4,
 "nbformat_minor": 4
}
